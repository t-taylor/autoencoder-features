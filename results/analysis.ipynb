{
 "cells": [
  {
   "cell_type": "code",
   "execution_count": 5,
   "id": "030242ba",
   "metadata": {},
   "outputs": [],
   "source": [
    "import pandas as pd\n",
    "import matplotlib.pyplot as plt\n",
    "import seaborn as sns"
   ]
  },
  {
   "cell_type": "code",
   "execution_count": 17,
   "id": "7116a121",
   "metadata": {},
   "outputs": [],
   "source": [
    "maldf = pd.read_csv(\"malware-multiclass-results.csv\")"
   ]
  },
  {
   "cell_type": "code",
   "execution_count": 8,
   "id": "72efea25",
   "metadata": {},
   "outputs": [
    {
     "data": {
      "text/plain": [
       "Index(['dimred', 'modeltype', 'accuracy', 'precision', 'recall', 'f1', 'mcc'], dtype='object')"
      ]
     },
     "execution_count": 8,
     "metadata": {},
     "output_type": "execute_result"
    }
   ],
   "source": [
    "maldf.columns"
   ]
  },
  {
   "cell_type": "code",
   "execution_count": 28,
   "id": "67cc14cc",
   "metadata": {},
   "outputs": [
    {
     "data": {
      "text/plain": [
       "<AxesSubplot:xlabel='accuracy', ylabel='modeltype'>"
      ]
     },
     "execution_count": 28,
     "metadata": {},
     "output_type": "execute_result"
    },
    {
     "data": {
      "image/png": "[encoded data removed]",
      "text/plain": [
       "<Figure size 504x432 with 1 Axes>"
      ]
     },
     "metadata": {},
     "output_type": "display_data"
    }
   ],
   "source": [
    "f, ax = plt.subplots(figsize=(7,6))\n",
    "ax.set_xscale('log')\n",
    "baysmal = maldf[maldf['modeltype']=='bayesian']\n",
    "\n",
    "sns.boxplot(x='accuracy', y='modeltype', data=baysmal)"
   ]
  },
  {
   "cell_type": "code",
   "execution_count": 31,
   "id": "eb2869b8",
   "metadata": {},
   "outputs": [
    {
     "data": {
      "text/plain": [
       "dimred           none\n",
       "modeltype     svm_rbf\n",
       "accuracy     0.978381\n",
       "precision    0.981003\n",
       "recall       0.978381\n",
       "f1           0.978586\n",
       "mcc          0.973872\n",
       "Name: 2, dtype: object"
      ]
     },
     "execution_count": 31,
     "metadata": {},
     "output_type": "execute_result"
    }
   ],
   "source": [
    "maldf.iloc[maldf['accuracy'].idxmax()]"
   ]
  },
  {
   "cell_type": "code",
   "execution_count": 35,
   "id": "b51829cd",
   "metadata": {},
   "outputs": [
    {
     "data": {
      "text/plain": [
       "dimred       pca_with_varthresh_0.93_autoencoder_500_11\n",
       "modeltype                                      bayesian\n",
       "accuracy                                       0.896964\n",
       "precision                                      0.908418\n",
       "recall                                         0.896964\n",
       "f1                                             0.899499\n",
       "mcc                                            0.875812\n",
       "Name: 27440, dtype: object"
      ]
     },
     "execution_count": 35,
     "metadata": {},
     "output_type": "execute_result"
    }
   ],
   "source": [
    "maldf.iloc[baysmal['accuracy'].idxmax()]"
   ]
  }
 ],
 "metadata": {
  "kernelspec": {
   "display_name": "Python 3",
   "language": "python",
   "name": "python3"
  },
  "language_info": {
   "codemirror_mode": {
    "name": "ipython",
    "version": 3
   },
   "file_extension": ".py",
   "mimetype": "text/x-python",
   "name": "python",
   "nbconvert_exporter": "python",
   "pygments_lexer": "ipython3",
   "version": "3.9.6"
  }
 },
 "nbformat": 4,
 "nbformat_minor": 5
}
